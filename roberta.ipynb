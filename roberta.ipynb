{
 "cells": [
  {
   "cell_type": "code",
   "execution_count": 7,
   "id": "ff20c430",
   "metadata": {},
   "outputs": [],
   "source": [
    "import torch\n",
    "from transformers import pipeline"
   ]
  },
  {
   "cell_type": "code",
   "execution_count": 8,
   "id": "9a26db6a",
   "metadata": {},
   "outputs": [
    {
     "name": "stderr",
     "output_type": "stream",
     "text": [
      "Device set to use mps:0\n"
     ]
    },
    {
     "data": {
      "text/plain": [
       "[{'score': 0.71044921875,\n",
       "  'token': 666,\n",
       "  'token_str': ' India',\n",
       "  'sequence': 'Delhi is the capital of India'},\n",
       " {'score': 0.06658935546875,\n",
       "  'token': 1752,\n",
       "  'token_str': ' Pakistan',\n",
       "  'sequence': 'Delhi is the capital of Pakistan'},\n",
       " {'score': 0.03375244140625,\n",
       "  'token': 436,\n",
       "  'token_str': ' China',\n",
       "  'sequence': 'Delhi is the capital of China'},\n",
       " {'score': 0.02886962890625,\n",
       "  'token': 7077,\n",
       "  'token_str': ' Bangladesh',\n",
       "  'sequence': 'Delhi is the capital of Bangladesh'},\n",
       " {'score': 0.0189361572265625,\n",
       "  'token': 1603,\n",
       "  'token_str': ' Iran',\n",
       "  'sequence': 'Delhi is the capital of Iran'}]"
      ]
     },
     "execution_count": 8,
     "metadata": {},
     "output_type": "execute_result"
    }
   ],
   "source": [
    "pipeline = pipeline(\n",
    "    task=\"fill-mask\",\n",
    "    model=\"FacebookAI/roberta-base\",\n",
    "    torch_dtype=torch.float16,\n",
    "    device=0\n",
    ")\n",
    "pipeline(\"Delhi is the capital of <mask>\")"
   ]
  },
  {
   "cell_type": "markdown",
   "id": "e71ae0f0",
   "metadata": {},
   "source": [
    "# Stream"
   ]
  },
  {
   "cell_type": "code",
   "execution_count": 4,
   "id": "550fa7c4",
   "metadata": {},
   "outputs": [
    {
     "name": "stderr",
     "output_type": "stream",
     "text": [
      "Device set to use mps:0\n"
     ]
    },
    {
     "name": "stdout",
     "output_type": "stream",
     "text": [
      "Exiting application. Goodbye!\n"
     ]
    }
   ],
   "source": [
    "import os\n",
    "import torch\n",
    "from transformers import pipeline\n",
    "\n",
    "fill_mask_pipeline = pipeline(\n",
    "    task=\"fill-mask\",\n",
    "    model=\"FacebookAI/roberta-base\",\n",
    "    torch_dtype=torch.float16,\n",
    "    device=0\n",
    ")\n",
    "while True:\n",
    "    # Prompt the user for input in a single, continuous loop\n",
    "    input_text = input(\"\\nEnter a sentence with a <mask> token: \")\n",
    "    \n",
    "    # Exit condition\n",
    "    if input_text.lower() in ['quit', 'exit']:\n",
    "        print(\"Exiting application. Goodbye!\")\n",
    "        break\n",
    "    \n",
    "    # Validate input\n",
    "    if \"<mask>\" not in input_text:\n",
    "        print(\"Error: The input must contain the '<mask>' token.\")\n",
    "        continue\n",
    "    \n",
    "    # Perform inference\n",
    "    try:\n",
    "        # The pipeline call expects the input_text as an argument.\n",
    "        # The error you saw was likely due to a syntax issue or a bug in a specific environment.\n",
    "        # The correct call is `fill_mask_pipeline(input_text)`.\n",
    "        results = fill_mask_pipeline(input_text)\n",
    "        \n",
    "        # Print the top predictions\n",
    "        print(\"\\nTop predictions:\")\n",
    "        for i, result in enumerate(results):\n",
    "            # Format the output for readability and highlight the predicted word\n",
    "            sequence = result['sequence']\n",
    "            score = result['score']\n",
    "            token_str = result['token_str']\n",
    "            \n",
    "            # Highlight the predicted word in bold using ANSI escape codes\n",
    "            formatted_sequence = sequence.replace(token_str, f\"\\033[1m{token_str}\\033[0m\")\n",
    "            print(f\"{i + 1}. {formatted_sequence} (Score: {score:.4f})\")\n",
    "            \n",
    "    except Exception as e:\n",
    "        print(f\"An error occurred during inference: {e}\")\n"
   ]
  }
 ],
 "metadata": {
  "kernelspec": {
   "display_name": ".venv (3.12.11)",
   "language": "python",
   "name": "python3"
  },
  "language_info": {
   "codemirror_mode": {
    "name": "ipython",
    "version": 3
   },
   "file_extension": ".py",
   "mimetype": "text/x-python",
   "name": "python",
   "nbconvert_exporter": "python",
   "pygments_lexer": "ipython3",
   "version": "3.12.11"
  }
 },
 "nbformat": 4,
 "nbformat_minor": 5
}
