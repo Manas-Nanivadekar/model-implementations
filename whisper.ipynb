{
 "cells": [
  {
   "cell_type": "code",
   "execution_count": 1,
   "id": "5c539a19",
   "metadata": {},
   "outputs": [],
   "source": [
    "import whisper"
   ]
  },
  {
   "cell_type": "code",
   "execution_count": 2,
   "id": "0c83e4a3",
   "metadata": {},
   "outputs": [],
   "source": [
    "model = whisper.load_model(\"large\")"
   ]
  },
  {
   "cell_type": "code",
   "execution_count": 3,
   "id": "2bf8b2c9",
   "metadata": {},
   "outputs": [],
   "source": [
    "audio = whisper.load_audio(\"audio.m4a\")\n",
    "audio = whisper.pad_or_trim(audio)"
   ]
  },
  {
   "cell_type": "code",
   "execution_count": 4,
   "id": "0f477072",
   "metadata": {},
   "outputs": [],
   "source": [
    "mel = whisper.log_mel_spectrogram(audio, n_mels=model.dims.n_mels).to(model.device)"
   ]
  },
  {
   "cell_type": "code",
   "execution_count": 5,
   "id": "bdb885a9",
   "metadata": {},
   "outputs": [
    {
     "name": "stdout",
     "output_type": "stream",
     "text": [
      "Detected language: hi\n"
     ]
    }
   ],
   "source": [
    "_, probs = model.detect_language(mel)\n",
    "print(f\"Detected language: {max(probs, key=probs.get)}\")"
   ]
  },
  {
   "cell_type": "code",
   "execution_count": 6,
   "id": "5ee5867d",
   "metadata": {},
   "outputs": [],
   "source": [
    "options = whisper.DecodingOptions()\n",
    "result = whisper.decode(model, mel, options)"
   ]
  },
  {
   "cell_type": "code",
   "execution_count": 7,
   "id": "31482d5b",
   "metadata": {},
   "outputs": [
    {
     "name": "stdout",
     "output_type": "stream",
     "text": [
      "कि अ कि नामस्ते हैं नामस्ते हैं मेरे को स्वेद पानी की और थोड़ी घपराट होती है चलते नहीं आचा खाना पर न खाते हैं तो मैं दर्द होता पेटी में साइड में आज करो बती हुए हां टेस्ट करवा लिया अपना हां दो टेस्ट करवाएं सरकारी ओस्पिटल\n"
     ]
    }
   ],
   "source": [
    "print(result.text)"
   ]
  }
 ],
 "metadata": {
  "kernelspec": {
   "display_name": "venv (3.10.18)",
   "language": "python",
   "name": "python3"
  },
  "language_info": {
   "codemirror_mode": {
    "name": "ipython",
    "version": 3
   },
   "file_extension": ".py",
   "mimetype": "text/x-python",
   "name": "python",
   "nbconvert_exporter": "python",
   "pygments_lexer": "ipython3",
   "version": "3.10.18"
  }
 },
 "nbformat": 4,
 "nbformat_minor": 5
}
