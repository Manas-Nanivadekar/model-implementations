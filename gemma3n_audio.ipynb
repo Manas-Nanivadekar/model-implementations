{
 "cells": [
  {
   "cell_type": "code",
   "execution_count": null,
   "id": "9db9ffe1",
   "metadata": {},
   "outputs": [],
   "source": [
    "import torch\n",
    "from transformers import AutoProcessor, AutoModelForImageTextToText"
   ]
  },
  {
   "cell_type": "code",
   "execution_count": null,
   "id": "fd38f32d",
   "metadata": {},
   "outputs": [],
   "source": [
    "from huggingface_hub import notebook_login\n",
    "notebook_login()"
   ]
  },
  {
   "cell_type": "code",
   "execution_count": null,
   "id": "2d6cf1db",
   "metadata": {},
   "outputs": [],
   "source": [
    "# load model\n",
    "\n",
    "GEMMA_MODEL_ID = \"google/gemma-3n-E4B-it\"\n",
    "\n",
    "processor = AutoProcessor.from_pretrained(GEMMA_MODEL_ID, device_map=\"auto\")\n",
    "model = AutoModelForImageTextToText.from_pretrained(\n",
    "            GEMMA_MODEL_ID, torch_dtype=\"auto\", device_map=\"auto\")"
   ]
  }
 ],
 "metadata": {
  "kernelspec": {
   "display_name": "venv (3.10.18)",
   "language": "python",
   "name": "python3"
  },
  "language_info": {
   "codemirror_mode": {
    "name": "ipython",
    "version": 3
   },
   "file_extension": ".py",
   "mimetype": "text/x-python",
   "name": "python",
   "nbconvert_exporter": "python",
   "pygments_lexer": "ipython3",
   "version": "3.10.18"
  }
 },
 "nbformat": 4,
 "nbformat_minor": 5
}
