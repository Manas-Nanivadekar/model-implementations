{
 "cells": [
  {
   "cell_type": "code",
   "execution_count": null,
   "id": "9db9ffe1",
   "metadata": {},
   "outputs": [],
   "source": [
    "import torch\n",
    "from transformers import AutoProcessor, AutoModelForImageTextToText"
   ]
  },
  {
   "cell_type": "code",
   "execution_count": null,
   "id": "fd38f32d",
   "metadata": {},
   "outputs": [],
   "source": [
    "from huggingface_hub import notebook_login\n",
    "notebook_login()"
   ]
  },
  {
   "cell_type": "code",
   "execution_count": null,
   "id": "2d6cf1db",
   "metadata": {},
   "outputs": [],
   "source": [
    "# load model\n",
    "\n",
    "GEMMA_MODEL_ID = \"google/gemma-3n-E4B-it\"\n",
    "\n",
    "processor = AutoProcessor.from_pretrained(GEMMA_MODEL_ID, device_map=\"auto\")\n",
    "model = AutoModelForImageTextToText.from_pretrained(\n",
    "            GEMMA_MODEL_ID, torch_dtype=\"auto\", device_map=\"auto\")"
   ]
  },
  {
   "cell_type": "code",
   "execution_count": null,
   "id": "31a6d278",
   "metadata": {},
   "outputs": [],
   "source": [
    "messages = [\n",
    "    {\n",
    "        \"role\": \"user\",\n",
    "        \"content\": [\n",
    "            {\"type\": \"audio\", \"audio\": \"https://ai.google.dev/gemma/docs/audio/roses-are.wav\"},\n",
    "            {\"type\": \"text\", \"text\": \"Transcribe this audio into English, and then translate it into French.\"},\n",
    "        ]\n",
    "    }\n",
    "]\n"
   ]
  },
  {
   "cell_type": "code",
   "execution_count": null,
   "id": "b14fcb73",
   "metadata": {},
   "outputs": [],
   "source": [
    "input_ids = processor.apply_chat_template(\n",
    "        messages,\n",
    "        add_generation_prompt=True,\n",
    "        tokenize=True, return_dict=True,\n",
    "        return_tensors=\"pt\",\n",
    ")"
   ]
  },
  {
   "cell_type": "code",
   "execution_count": null,
   "id": "859db3ca",
   "metadata": {},
   "outputs": [],
   "source": [
    "input_ids = input_ids.to(model.device, dtype=model.dtype)\n",
    "\n",
    "outputs = model.generate(**input_ids, max_new_tokens=64)\n",
    "\n",
    "text = processor.batch_decode(\n",
    "    outputs,\n",
    "    skip_special_tokens=False,\n",
    "    clean_up_tokenization_spaces=False\n",
    ")\n",
    "print(text[0])"
   ]
  }
 ],
 "metadata": {
  "kernelspec": {
   "display_name": "venv (3.10.18)",
   "language": "python",
   "name": "python3"
  },
  "language_info": {
   "codemirror_mode": {
    "name": "ipython",
    "version": 3
   },
   "file_extension": ".py",
   "mimetype": "text/x-python",
   "name": "python",
   "nbconvert_exporter": "python",
   "pygments_lexer": "ipython3",
   "version": "3.10.18"
  }
 },
 "nbformat": 4,
 "nbformat_minor": 5
}
