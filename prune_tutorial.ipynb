{
  "nbformat": 4,
  "nbformat_minor": 0,
  "metadata": {
    "colab": {
      "provenance": [],
      "gpuType": "T4"
    },
    "kernelspec": {
      "name": "python3",
      "display_name": "Python 3"
    },
    "language_info": {
      "name": "python"
    },
    "accelerator": "GPU"
  },
  "cells": [
    {
      "cell_type": "code",
      "execution_count": 1,
      "metadata": {
        "id": "zLeX0roewQGR"
      },
      "outputs": [],
      "source": [
        "import torch\n",
        "from torch import nn\n",
        "import torch.nn.utils.prune as prune\n",
        "import torch.nn.functional as F"
      ]
    },
    {
      "cell_type": "code",
      "source": [
        "device = torch.device(\"cuda\")\n",
        "\n",
        "class LeNet(nn.Module):\n",
        "  def __init__(self):\n",
        "    super(LeNet, self).__init__()\n",
        "\n",
        "    # 1 input image channel, 6 output  channels, 5x5 square conv kernal\n",
        "    self.conv1 = nn.Conv2d(1,6,5)\n",
        "    self.conv2 = nn.Conv2d(6,16,5)\n",
        "    self.fc1 = nn.Linear(16 * 5 * 5, 120) # 5x5 image dimension\n",
        "    self.fc2 = nn.Linear(120, 84)\n",
        "    self.fc3 = nn.Linear(84, 10)\n",
        "\n",
        "  def forward(self, x):\n",
        "    x = F.max_pool2d(F.relu(self.conv1(x)), (2,2))\n",
        "    x = F.max_pool2d(F.relu(self.conv2(x)), 2)\n",
        "    x = x.view(-1, int(x.nelement() / x.shape[0]))\n",
        "    x = F.relu(self.fc1(x))\n",
        "    x = F.relu(self.fc2(x))\n",
        "    x = self.fc3(x)\n",
        "    return x\n",
        "\n",
        "model = LeNet().to(device=device)"
      ],
      "metadata": {
        "id": "-oT-YrJ_wb_b"
      },
      "execution_count": 7,
      "outputs": []
    },
    {
      "cell_type": "code",
      "source": [
        "module = model.conv1\n",
        "print(list(module.named_parameters()))"
      ],
      "metadata": {
        "colab": {
          "base_uri": "https://localhost:8080/"
        },
        "id": "MHfOXPYWyIXP",
        "outputId": "6e62a941-74fd-4314-8557-1332196fb4dc"
      },
      "execution_count": 8,
      "outputs": [
        {
          "output_type": "stream",
          "name": "stdout",
          "text": [
            "[('weight', Parameter containing:\n",
            "tensor([[[[ 0.0054,  0.1585, -0.0415, -0.0173,  0.1092],\n",
            "          [ 0.0304,  0.1292, -0.0807,  0.0465, -0.1192],\n",
            "          [ 0.1186,  0.0707, -0.1917,  0.0334, -0.1369],\n",
            "          [-0.1165, -0.1298,  0.1269, -0.1175, -0.0077],\n",
            "          [-0.0231, -0.1308,  0.1173,  0.1724, -0.1338]]],\n",
            "\n",
            "\n",
            "        [[[-0.0367,  0.1611,  0.1250, -0.0599, -0.1525],\n",
            "          [ 0.0013,  0.1350,  0.1147, -0.1733, -0.0767],\n",
            "          [ 0.1225, -0.1981,  0.1737,  0.0225,  0.1848],\n",
            "          [ 0.0158, -0.1383, -0.0958, -0.0053, -0.0439],\n",
            "          [ 0.1980, -0.1148,  0.0593, -0.0423, -0.0234]]],\n",
            "\n",
            "\n",
            "        [[[ 0.1603, -0.0760, -0.0866, -0.0023, -0.0098],\n",
            "          [-0.1082, -0.0529, -0.1309,  0.1340,  0.1907],\n",
            "          [ 0.0633,  0.1868,  0.0369,  0.0926, -0.1605],\n",
            "          [-0.1349, -0.1510, -0.0604, -0.0316,  0.1803],\n",
            "          [-0.0571,  0.1223, -0.1137,  0.1718, -0.0852]]],\n",
            "\n",
            "\n",
            "        [[[ 0.0999,  0.1339,  0.0968,  0.0373, -0.0722],\n",
            "          [-0.0567,  0.1202,  0.0716, -0.0564, -0.0484],\n",
            "          [-0.1369, -0.0567,  0.0987,  0.1132,  0.1500],\n",
            "          [-0.0075, -0.1157, -0.1547,  0.1106, -0.0659],\n",
            "          [ 0.1155, -0.0281, -0.1619, -0.1977,  0.0366]]],\n",
            "\n",
            "\n",
            "        [[[ 0.1896, -0.0011, -0.1166,  0.0263,  0.1921],\n",
            "          [ 0.1671,  0.1507,  0.1920,  0.0718, -0.0884],\n",
            "          [ 0.1109,  0.0445, -0.0398, -0.1014, -0.1067],\n",
            "          [ 0.1158, -0.0153, -0.1659, -0.1739, -0.0338],\n",
            "          [-0.1264, -0.0391,  0.0482,  0.0629,  0.1372]]],\n",
            "\n",
            "\n",
            "        [[[-0.0307,  0.0992, -0.0078, -0.1833, -0.1247],\n",
            "          [-0.0800, -0.0566, -0.0369, -0.0372,  0.0637],\n",
            "          [-0.1916, -0.1582,  0.1835, -0.1070,  0.0869],\n",
            "          [-0.1971, -0.0706,  0.1007, -0.1974,  0.1044],\n",
            "          [-0.0315,  0.0907,  0.0789, -0.1997, -0.1736]]]], device='cuda:0',\n",
            "       requires_grad=True)), ('bias', Parameter containing:\n",
            "tensor([-0.1638,  0.0620, -0.1033,  0.0749, -0.1727, -0.1186], device='cuda:0',\n",
            "       requires_grad=True))]\n"
          ]
        }
      ]
    },
    {
      "cell_type": "code",
      "source": [
        "print(list(model.named_buffers()))"
      ],
      "metadata": {
        "colab": {
          "base_uri": "https://localhost:8080/"
        },
        "id": "Mbel3EY8yUXK",
        "outputId": "61bf1d7c-af53-4357-cc06-b0c055f1e0cf"
      },
      "execution_count": 9,
      "outputs": [
        {
          "output_type": "stream",
          "name": "stdout",
          "text": [
            "[]\n"
          ]
        }
      ]
    },
    {
      "cell_type": "code",
      "source": [
        "prune.random_unstructured(module, name=\"weight\", amount=0.3)"
      ],
      "metadata": {
        "colab": {
          "base_uri": "https://localhost:8080/"
        },
        "id": "XlUkHeeayYVU",
        "outputId": "bb0356a7-7ae9-461c-f063-1a37e0f8e33c"
      },
      "execution_count": 10,
      "outputs": [
        {
          "output_type": "execute_result",
          "data": {
            "text/plain": [
              "Conv2d(1, 6, kernel_size=(5, 5), stride=(1, 1))"
            ]
          },
          "metadata": {},
          "execution_count": 10
        }
      ]
    },
    {
      "cell_type": "code",
      "source": [
        "print(list(module.named_parameters()))"
      ],
      "metadata": {
        "colab": {
          "base_uri": "https://localhost:8080/"
        },
        "id": "xBLMGX0xyfia",
        "outputId": "17468750-eaa2-4886-d5ef-520767318fa8"
      },
      "execution_count": 11,
      "outputs": [
        {
          "output_type": "stream",
          "name": "stdout",
          "text": [
            "[('bias', Parameter containing:\n",
            "tensor([-0.1638,  0.0620, -0.1033,  0.0749, -0.1727, -0.1186], device='cuda:0',\n",
            "       requires_grad=True)), ('weight_orig', Parameter containing:\n",
            "tensor([[[[ 0.0054,  0.1585, -0.0415, -0.0173,  0.1092],\n",
            "          [ 0.0304,  0.1292, -0.0807,  0.0465, -0.1192],\n",
            "          [ 0.1186,  0.0707, -0.1917,  0.0334, -0.1369],\n",
            "          [-0.1165, -0.1298,  0.1269, -0.1175, -0.0077],\n",
            "          [-0.0231, -0.1308,  0.1173,  0.1724, -0.1338]]],\n",
            "\n",
            "\n",
            "        [[[-0.0367,  0.1611,  0.1250, -0.0599, -0.1525],\n",
            "          [ 0.0013,  0.1350,  0.1147, -0.1733, -0.0767],\n",
            "          [ 0.1225, -0.1981,  0.1737,  0.0225,  0.1848],\n",
            "          [ 0.0158, -0.1383, -0.0958, -0.0053, -0.0439],\n",
            "          [ 0.1980, -0.1148,  0.0593, -0.0423, -0.0234]]],\n",
            "\n",
            "\n",
            "        [[[ 0.1603, -0.0760, -0.0866, -0.0023, -0.0098],\n",
            "          [-0.1082, -0.0529, -0.1309,  0.1340,  0.1907],\n",
            "          [ 0.0633,  0.1868,  0.0369,  0.0926, -0.1605],\n",
            "          [-0.1349, -0.1510, -0.0604, -0.0316,  0.1803],\n",
            "          [-0.0571,  0.1223, -0.1137,  0.1718, -0.0852]]],\n",
            "\n",
            "\n",
            "        [[[ 0.0999,  0.1339,  0.0968,  0.0373, -0.0722],\n",
            "          [-0.0567,  0.1202,  0.0716, -0.0564, -0.0484],\n",
            "          [-0.1369, -0.0567,  0.0987,  0.1132,  0.1500],\n",
            "          [-0.0075, -0.1157, -0.1547,  0.1106, -0.0659],\n",
            "          [ 0.1155, -0.0281, -0.1619, -0.1977,  0.0366]]],\n",
            "\n",
            "\n",
            "        [[[ 0.1896, -0.0011, -0.1166,  0.0263,  0.1921],\n",
            "          [ 0.1671,  0.1507,  0.1920,  0.0718, -0.0884],\n",
            "          [ 0.1109,  0.0445, -0.0398, -0.1014, -0.1067],\n",
            "          [ 0.1158, -0.0153, -0.1659, -0.1739, -0.0338],\n",
            "          [-0.1264, -0.0391,  0.0482,  0.0629,  0.1372]]],\n",
            "\n",
            "\n",
            "        [[[-0.0307,  0.0992, -0.0078, -0.1833, -0.1247],\n",
            "          [-0.0800, -0.0566, -0.0369, -0.0372,  0.0637],\n",
            "          [-0.1916, -0.1582,  0.1835, -0.1070,  0.0869],\n",
            "          [-0.1971, -0.0706,  0.1007, -0.1974,  0.1044],\n",
            "          [-0.0315,  0.0907,  0.0789, -0.1997, -0.1736]]]], device='cuda:0',\n",
            "       requires_grad=True))]\n"
          ]
        }
      ]
    },
    {
      "cell_type": "code",
      "source": [
        "print(list(module.named_buffers()))"
      ],
      "metadata": {
        "colab": {
          "base_uri": "https://localhost:8080/"
        },
        "id": "LjfZlbQNyiXr",
        "outputId": "68acae93-8ad1-4d60-d02e-94aeef7f5e3a"
      },
      "execution_count": 12,
      "outputs": [
        {
          "output_type": "stream",
          "name": "stdout",
          "text": [
            "[('weight_mask', tensor([[[[1., 1., 1., 1., 0.],\n",
            "          [1., 0., 1., 1., 0.],\n",
            "          [1., 1., 1., 0., 0.],\n",
            "          [1., 1., 1., 1., 1.],\n",
            "          [0., 1., 1., 0., 0.]]],\n",
            "\n",
            "\n",
            "        [[[1., 1., 1., 1., 1.],\n",
            "          [1., 1., 1., 1., 1.],\n",
            "          [1., 1., 1., 0., 0.],\n",
            "          [1., 0., 1., 0., 1.],\n",
            "          [1., 1., 1., 0., 1.]]],\n",
            "\n",
            "\n",
            "        [[[1., 1., 1., 1., 0.],\n",
            "          [1., 1., 1., 1., 0.],\n",
            "          [1., 1., 1., 1., 1.],\n",
            "          [1., 1., 0., 1., 0.],\n",
            "          [1., 0., 0., 1., 1.]]],\n",
            "\n",
            "\n",
            "        [[[0., 1., 0., 0., 1.],\n",
            "          [0., 1., 0., 1., 1.],\n",
            "          [1., 1., 1., 1., 1.],\n",
            "          [0., 1., 1., 1., 1.],\n",
            "          [0., 0., 1., 1., 1.]]],\n",
            "\n",
            "\n",
            "        [[[0., 0., 0., 1., 0.],\n",
            "          [1., 1., 0., 1., 1.],\n",
            "          [1., 0., 0., 1., 1.],\n",
            "          [1., 1., 1., 1., 1.],\n",
            "          [0., 1., 0., 1., 1.]]],\n",
            "\n",
            "\n",
            "        [[[0., 1., 1., 1., 0.],\n",
            "          [0., 1., 1., 0., 1.],\n",
            "          [1., 1., 0., 1., 1.],\n",
            "          [1., 0., 1., 1., 0.],\n",
            "          [0., 1., 0., 1., 1.]]]], device='cuda:0'))]\n"
          ]
        }
      ]
    },
    {
      "cell_type": "code",
      "source": [
        "print(module.weight)"
      ],
      "metadata": {
        "colab": {
          "base_uri": "https://localhost:8080/"
        },
        "id": "rvreaWgPykUu",
        "outputId": "a2bd3e9c-552a-4b7f-fe3b-516c9218e759"
      },
      "execution_count": 14,
      "outputs": [
        {
          "output_type": "stream",
          "name": "stdout",
          "text": [
            "tensor([[[[ 0.0054,  0.1585, -0.0415, -0.0173,  0.0000],\n",
            "          [ 0.0304,  0.0000, -0.0807,  0.0465, -0.0000],\n",
            "          [ 0.1186,  0.0707, -0.1917,  0.0000, -0.0000],\n",
            "          [-0.1165, -0.1298,  0.1269, -0.1175, -0.0077],\n",
            "          [-0.0000, -0.1308,  0.1173,  0.0000, -0.0000]]],\n",
            "\n",
            "\n",
            "        [[[-0.0367,  0.1611,  0.1250, -0.0599, -0.1525],\n",
            "          [ 0.0013,  0.1350,  0.1147, -0.1733, -0.0767],\n",
            "          [ 0.1225, -0.1981,  0.1737,  0.0000,  0.0000],\n",
            "          [ 0.0158, -0.0000, -0.0958, -0.0000, -0.0439],\n",
            "          [ 0.1980, -0.1148,  0.0593, -0.0000, -0.0234]]],\n",
            "\n",
            "\n",
            "        [[[ 0.1603, -0.0760, -0.0866, -0.0023, -0.0000],\n",
            "          [-0.1082, -0.0529, -0.1309,  0.1340,  0.0000],\n",
            "          [ 0.0633,  0.1868,  0.0369,  0.0926, -0.1605],\n",
            "          [-0.1349, -0.1510, -0.0000, -0.0316,  0.0000],\n",
            "          [-0.0571,  0.0000, -0.0000,  0.1718, -0.0852]]],\n",
            "\n",
            "\n",
            "        [[[ 0.0000,  0.1339,  0.0000,  0.0000, -0.0722],\n",
            "          [-0.0000,  0.1202,  0.0000, -0.0564, -0.0484],\n",
            "          [-0.1369, -0.0567,  0.0987,  0.1132,  0.1500],\n",
            "          [-0.0000, -0.1157, -0.1547,  0.1106, -0.0659],\n",
            "          [ 0.0000, -0.0000, -0.1619, -0.1977,  0.0366]]],\n",
            "\n",
            "\n",
            "        [[[ 0.0000, -0.0000, -0.0000,  0.0263,  0.0000],\n",
            "          [ 0.1671,  0.1507,  0.0000,  0.0718, -0.0884],\n",
            "          [ 0.1109,  0.0000, -0.0000, -0.1014, -0.1067],\n",
            "          [ 0.1158, -0.0153, -0.1659, -0.1739, -0.0338],\n",
            "          [-0.0000, -0.0391,  0.0000,  0.0629,  0.1372]]],\n",
            "\n",
            "\n",
            "        [[[-0.0000,  0.0992, -0.0078, -0.1833, -0.0000],\n",
            "          [-0.0000, -0.0566, -0.0369, -0.0000,  0.0637],\n",
            "          [-0.1916, -0.1582,  0.0000, -0.1070,  0.0869],\n",
            "          [-0.1971, -0.0000,  0.1007, -0.1974,  0.0000],\n",
            "          [-0.0000,  0.0907,  0.0000, -0.1997, -0.1736]]]], device='cuda:0',\n",
            "       grad_fn=<MulBackward0>)\n"
          ]
        }
      ]
    },
    {
      "cell_type": "code",
      "source": [
        "print(module._forward_pre_hooks)"
      ],
      "metadata": {
        "colab": {
          "base_uri": "https://localhost:8080/"
        },
        "id": "jmp766_3ymUr",
        "outputId": "622e455d-e9b7-4d71-ab3f-92a4158240fa"
      },
      "execution_count": 15,
      "outputs": [
        {
          "output_type": "stream",
          "name": "stdout",
          "text": [
            "OrderedDict({0: <torch.nn.utils.prune.RandomUnstructured object at 0x7f8cde9b59a0>})\n"
          ]
        }
      ]
    },
    {
      "cell_type": "code",
      "source": [
        "prune.l1_unstructured(module, name='bias', amount=3)"
      ],
      "metadata": {
        "colab": {
          "base_uri": "https://localhost:8080/"
        },
        "id": "7k4Zmm8iyr3N",
        "outputId": "aee14661-9332-4c21-a1fe-ef0db0e76f47"
      },
      "execution_count": 16,
      "outputs": [
        {
          "output_type": "execute_result",
          "data": {
            "text/plain": [
              "Conv2d(1, 6, kernel_size=(5, 5), stride=(1, 1))"
            ]
          },
          "metadata": {},
          "execution_count": 16
        }
      ]
    },
    {
      "cell_type": "code",
      "source": [
        "print(list(module.named_parameters()))"
      ],
      "metadata": {
        "colab": {
          "base_uri": "https://localhost:8080/"
        },
        "id": "XJAtR3Cazrdg",
        "outputId": "bb981bc4-1681-4430-e6e6-31059039fd1a"
      },
      "execution_count": 18,
      "outputs": [
        {
          "output_type": "stream",
          "name": "stdout",
          "text": [
            "[('weight_orig', Parameter containing:\n",
            "tensor([[[[ 0.0054,  0.1585, -0.0415, -0.0173,  0.1092],\n",
            "          [ 0.0304,  0.1292, -0.0807,  0.0465, -0.1192],\n",
            "          [ 0.1186,  0.0707, -0.1917,  0.0334, -0.1369],\n",
            "          [-0.1165, -0.1298,  0.1269, -0.1175, -0.0077],\n",
            "          [-0.0231, -0.1308,  0.1173,  0.1724, -0.1338]]],\n",
            "\n",
            "\n",
            "        [[[-0.0367,  0.1611,  0.1250, -0.0599, -0.1525],\n",
            "          [ 0.0013,  0.1350,  0.1147, -0.1733, -0.0767],\n",
            "          [ 0.1225, -0.1981,  0.1737,  0.0225,  0.1848],\n",
            "          [ 0.0158, -0.1383, -0.0958, -0.0053, -0.0439],\n",
            "          [ 0.1980, -0.1148,  0.0593, -0.0423, -0.0234]]],\n",
            "\n",
            "\n",
            "        [[[ 0.1603, -0.0760, -0.0866, -0.0023, -0.0098],\n",
            "          [-0.1082, -0.0529, -0.1309,  0.1340,  0.1907],\n",
            "          [ 0.0633,  0.1868,  0.0369,  0.0926, -0.1605],\n",
            "          [-0.1349, -0.1510, -0.0604, -0.0316,  0.1803],\n",
            "          [-0.0571,  0.1223, -0.1137,  0.1718, -0.0852]]],\n",
            "\n",
            "\n",
            "        [[[ 0.0999,  0.1339,  0.0968,  0.0373, -0.0722],\n",
            "          [-0.0567,  0.1202,  0.0716, -0.0564, -0.0484],\n",
            "          [-0.1369, -0.0567,  0.0987,  0.1132,  0.1500],\n",
            "          [-0.0075, -0.1157, -0.1547,  0.1106, -0.0659],\n",
            "          [ 0.1155, -0.0281, -0.1619, -0.1977,  0.0366]]],\n",
            "\n",
            "\n",
            "        [[[ 0.1896, -0.0011, -0.1166,  0.0263,  0.1921],\n",
            "          [ 0.1671,  0.1507,  0.1920,  0.0718, -0.0884],\n",
            "          [ 0.1109,  0.0445, -0.0398, -0.1014, -0.1067],\n",
            "          [ 0.1158, -0.0153, -0.1659, -0.1739, -0.0338],\n",
            "          [-0.1264, -0.0391,  0.0482,  0.0629,  0.1372]]],\n",
            "\n",
            "\n",
            "        [[[-0.0307,  0.0992, -0.0078, -0.1833, -0.1247],\n",
            "          [-0.0800, -0.0566, -0.0369, -0.0372,  0.0637],\n",
            "          [-0.1916, -0.1582,  0.1835, -0.1070,  0.0869],\n",
            "          [-0.1971, -0.0706,  0.1007, -0.1974,  0.1044],\n",
            "          [-0.0315,  0.0907,  0.0789, -0.1997, -0.1736]]]], device='cuda:0',\n",
            "       requires_grad=True)), ('bias_orig', Parameter containing:\n",
            "tensor([-0.1638,  0.0620, -0.1033,  0.0749, -0.1727, -0.1186], device='cuda:0',\n",
            "       requires_grad=True))]\n"
          ]
        }
      ]
    },
    {
      "cell_type": "code",
      "source": [
        "print(list(module.named_buffers()))"
      ],
      "metadata": {
        "colab": {
          "base_uri": "https://localhost:8080/"
        },
        "id": "7fYKg-0TztUZ",
        "outputId": "6c39834b-e284-4945-8004-53792ea89ed6"
      },
      "execution_count": 19,
      "outputs": [
        {
          "output_type": "stream",
          "name": "stdout",
          "text": [
            "[('weight_mask', tensor([[[[1., 1., 1., 1., 0.],\n",
            "          [1., 0., 1., 1., 0.],\n",
            "          [1., 1., 1., 0., 0.],\n",
            "          [1., 1., 1., 1., 1.],\n",
            "          [0., 1., 1., 0., 0.]]],\n",
            "\n",
            "\n",
            "        [[[1., 1., 1., 1., 1.],\n",
            "          [1., 1., 1., 1., 1.],\n",
            "          [1., 1., 1., 0., 0.],\n",
            "          [1., 0., 1., 0., 1.],\n",
            "          [1., 1., 1., 0., 1.]]],\n",
            "\n",
            "\n",
            "        [[[1., 1., 1., 1., 0.],\n",
            "          [1., 1., 1., 1., 0.],\n",
            "          [1., 1., 1., 1., 1.],\n",
            "          [1., 1., 0., 1., 0.],\n",
            "          [1., 0., 0., 1., 1.]]],\n",
            "\n",
            "\n",
            "        [[[0., 1., 0., 0., 1.],\n",
            "          [0., 1., 0., 1., 1.],\n",
            "          [1., 1., 1., 1., 1.],\n",
            "          [0., 1., 1., 1., 1.],\n",
            "          [0., 0., 1., 1., 1.]]],\n",
            "\n",
            "\n",
            "        [[[0., 0., 0., 1., 0.],\n",
            "          [1., 1., 0., 1., 1.],\n",
            "          [1., 0., 0., 1., 1.],\n",
            "          [1., 1., 1., 1., 1.],\n",
            "          [0., 1., 0., 1., 1.]]],\n",
            "\n",
            "\n",
            "        [[[0., 1., 1., 1., 0.],\n",
            "          [0., 1., 1., 0., 1.],\n",
            "          [1., 1., 0., 1., 1.],\n",
            "          [1., 0., 1., 1., 0.],\n",
            "          [0., 1., 0., 1., 1.]]]], device='cuda:0')), ('bias_mask', tensor([1., 0., 0., 0., 1., 1.], device='cuda:0'))]\n"
          ]
        }
      ]
    },
    {
      "cell_type": "code",
      "source": [
        "print(module.bias)"
      ],
      "metadata": {
        "colab": {
          "base_uri": "https://localhost:8080/"
        },
        "id": "vILhG7WVz0ej",
        "outputId": "4f8549a3-656f-4591-f517-3b852c7f89a6"
      },
      "execution_count": 20,
      "outputs": [
        {
          "output_type": "stream",
          "name": "stdout",
          "text": [
            "tensor([-0.1638,  0.0000, -0.0000,  0.0000, -0.1727, -0.1186], device='cuda:0',\n",
            "       grad_fn=<MulBackward0>)\n"
          ]
        }
      ]
    },
    {
      "cell_type": "code",
      "source": [
        "print(module._forward_pre_hooks)"
      ],
      "metadata": {
        "colab": {
          "base_uri": "https://localhost:8080/"
        },
        "id": "UmD1K3hhz3Sr",
        "outputId": "65dcf821-e4e3-4229-f1bc-03d21f598e78"
      },
      "execution_count": 21,
      "outputs": [
        {
          "output_type": "stream",
          "name": "stdout",
          "text": [
            "OrderedDict({0: <torch.nn.utils.prune.RandomUnstructured object at 0x7f8cde9b59a0>, 1: <torch.nn.utils.prune.L1Unstructured object at 0x7f8cde7c0bf0>})\n"
          ]
        }
      ]
    },
    {
      "cell_type": "markdown",
      "source": [
        "# iterative pruning"
      ],
      "metadata": {
        "id": "u4uCa0BS0AJu"
      }
    },
    {
      "cell_type": "code",
      "source": [
        "prune.ln_structured(module, name='weight', amount=0.5, n=2, dim=0)\n",
        "print(module.weight)"
      ],
      "metadata": {
        "colab": {
          "base_uri": "https://localhost:8080/"
        },
        "id": "PPOQt5rez7Jn",
        "outputId": "e29bb62c-b8d2-4cc1-e138-420616c43eed"
      },
      "execution_count": 24,
      "outputs": [
        {
          "output_type": "stream",
          "name": "stdout",
          "text": [
            "tensor([[[[ 0.0000,  0.0000, -0.0000, -0.0000,  0.0000],\n",
            "          [ 0.0000,  0.0000, -0.0000,  0.0000, -0.0000],\n",
            "          [ 0.0000,  0.0000, -0.0000,  0.0000, -0.0000],\n",
            "          [-0.0000, -0.0000,  0.0000, -0.0000, -0.0000],\n",
            "          [-0.0000, -0.0000,  0.0000,  0.0000, -0.0000]]],\n",
            "\n",
            "\n",
            "        [[[-0.0000,  0.0000,  0.0000, -0.0000, -0.0000],\n",
            "          [ 0.0000,  0.0000,  0.0000, -0.0000, -0.0000],\n",
            "          [ 0.0000, -0.0000,  0.0000,  0.0000,  0.0000],\n",
            "          [ 0.0000, -0.0000, -0.0000, -0.0000, -0.0000],\n",
            "          [ 0.0000, -0.0000,  0.0000, -0.0000, -0.0000]]],\n",
            "\n",
            "\n",
            "        [[[ 0.0000, -0.0000, -0.0000, -0.0000, -0.0000],\n",
            "          [-0.0000, -0.0000, -0.0000,  0.0000,  0.0000],\n",
            "          [ 0.0000,  0.0000,  0.0000,  0.0000, -0.0000],\n",
            "          [-0.0000, -0.0000, -0.0000, -0.0000,  0.0000],\n",
            "          [-0.0000,  0.0000, -0.0000,  0.0000, -0.0000]]],\n",
            "\n",
            "\n",
            "        [[[ 0.0000,  0.0000,  0.0000,  0.0000, -0.0000],\n",
            "          [-0.0000,  0.0000,  0.0000, -0.0000, -0.0000],\n",
            "          [-0.0000, -0.0000,  0.0000,  0.0000,  0.0000],\n",
            "          [-0.0000, -0.0000, -0.0000,  0.0000, -0.0000],\n",
            "          [ 0.0000, -0.0000, -0.0000, -0.0000,  0.0000]]],\n",
            "\n",
            "\n",
            "        [[[ 0.0000, -0.0000, -0.0000,  0.0000,  0.0000],\n",
            "          [ 0.0000,  0.0000,  0.0000,  0.0000, -0.0000],\n",
            "          [ 0.0000,  0.0000, -0.0000, -0.0000, -0.0000],\n",
            "          [ 0.0000, -0.0000, -0.0000, -0.0000, -0.0000],\n",
            "          [-0.0000, -0.0000,  0.0000,  0.0000,  0.0000]]],\n",
            "\n",
            "\n",
            "        [[[-0.0000,  0.0992, -0.0078, -0.1833, -0.0000],\n",
            "          [-0.0000, -0.0566, -0.0369, -0.0000,  0.0637],\n",
            "          [-0.1916, -0.1582,  0.0000, -0.1070,  0.0869],\n",
            "          [-0.1971, -0.0000,  0.1007, -0.1974,  0.0000],\n",
            "          [-0.0000,  0.0907,  0.0000, -0.1997, -0.1736]]]], device='cuda:0',\n",
            "       grad_fn=<MulBackward0>)\n"
          ]
        }
      ]
    },
    {
      "cell_type": "code",
      "source": [
        "for hook in module._forward_pre_hooks.values():\n",
        "    if hook._tensor_name == \"weight\":  # select out the correct hook\n",
        "        break\n",
        "\n",
        "print(list(hook))"
      ],
      "metadata": {
        "colab": {
          "base_uri": "https://localhost:8080/"
        },
        "id": "sMTstciy0J0x",
        "outputId": "a6eada0c-809d-4d4e-a442-d7d307144ef9"
      },
      "execution_count": 25,
      "outputs": [
        {
          "output_type": "stream",
          "name": "stdout",
          "text": [
            "[<torch.nn.utils.prune.RandomUnstructured object at 0x7f8cde9b59a0>, <torch.nn.utils.prune.LnStructured object at 0x7f8cde7c21b0>, <torch.nn.utils.prune.LnStructured object at 0x7f8cde9b72f0>]\n"
          ]
        }
      ]
    },
    {
      "cell_type": "code",
      "source": [
        "prune.remove(module, 'weight')\n",
        "print(list(module.named_parameters()))"
      ],
      "metadata": {
        "colab": {
          "base_uri": "https://localhost:8080/"
        },
        "id": "XMhL4DFC0Ta7",
        "outputId": "c7ca0c06-07a2-4401-fa92-697e62bd4949"
      },
      "execution_count": 26,
      "outputs": [
        {
          "output_type": "stream",
          "name": "stdout",
          "text": [
            "[('bias_orig', Parameter containing:\n",
            "tensor([-0.1638,  0.0620, -0.1033,  0.0749, -0.1727, -0.1186], device='cuda:0',\n",
            "       requires_grad=True)), ('weight', Parameter containing:\n",
            "tensor([[[[ 0.0000,  0.0000, -0.0000, -0.0000,  0.0000],\n",
            "          [ 0.0000,  0.0000, -0.0000,  0.0000, -0.0000],\n",
            "          [ 0.0000,  0.0000, -0.0000,  0.0000, -0.0000],\n",
            "          [-0.0000, -0.0000,  0.0000, -0.0000, -0.0000],\n",
            "          [-0.0000, -0.0000,  0.0000,  0.0000, -0.0000]]],\n",
            "\n",
            "\n",
            "        [[[-0.0000,  0.0000,  0.0000, -0.0000, -0.0000],\n",
            "          [ 0.0000,  0.0000,  0.0000, -0.0000, -0.0000],\n",
            "          [ 0.0000, -0.0000,  0.0000,  0.0000,  0.0000],\n",
            "          [ 0.0000, -0.0000, -0.0000, -0.0000, -0.0000],\n",
            "          [ 0.0000, -0.0000,  0.0000, -0.0000, -0.0000]]],\n",
            "\n",
            "\n",
            "        [[[ 0.0000, -0.0000, -0.0000, -0.0000, -0.0000],\n",
            "          [-0.0000, -0.0000, -0.0000,  0.0000,  0.0000],\n",
            "          [ 0.0000,  0.0000,  0.0000,  0.0000, -0.0000],\n",
            "          [-0.0000, -0.0000, -0.0000, -0.0000,  0.0000],\n",
            "          [-0.0000,  0.0000, -0.0000,  0.0000, -0.0000]]],\n",
            "\n",
            "\n",
            "        [[[ 0.0000,  0.0000,  0.0000,  0.0000, -0.0000],\n",
            "          [-0.0000,  0.0000,  0.0000, -0.0000, -0.0000],\n",
            "          [-0.0000, -0.0000,  0.0000,  0.0000,  0.0000],\n",
            "          [-0.0000, -0.0000, -0.0000,  0.0000, -0.0000],\n",
            "          [ 0.0000, -0.0000, -0.0000, -0.0000,  0.0000]]],\n",
            "\n",
            "\n",
            "        [[[ 0.0000, -0.0000, -0.0000,  0.0000,  0.0000],\n",
            "          [ 0.0000,  0.0000,  0.0000,  0.0000, -0.0000],\n",
            "          [ 0.0000,  0.0000, -0.0000, -0.0000, -0.0000],\n",
            "          [ 0.0000, -0.0000, -0.0000, -0.0000, -0.0000],\n",
            "          [-0.0000, -0.0000,  0.0000,  0.0000,  0.0000]]],\n",
            "\n",
            "\n",
            "        [[[-0.0000,  0.0992, -0.0078, -0.1833, -0.0000],\n",
            "          [-0.0000, -0.0566, -0.0369, -0.0000,  0.0637],\n",
            "          [-0.1916, -0.1582,  0.0000, -0.1070,  0.0869],\n",
            "          [-0.1971, -0.0000,  0.1007, -0.1974,  0.0000],\n",
            "          [-0.0000,  0.0907,  0.0000, -0.1997, -0.1736]]]], device='cuda:0',\n",
            "       requires_grad=True))]\n"
          ]
        }
      ]
    },
    {
      "cell_type": "code",
      "source": [
        "model = LeNet()\n",
        "\n",
        "parameters_to_prune = (\n",
        "    (model.conv1, 'weight'),\n",
        "    (model.conv2, 'weight'),\n",
        "    (model.fc1, 'weight'),\n",
        "    (model.fc2, 'weight'),\n",
        "    (model.fc3, 'weight'),\n",
        ")\n",
        "\n",
        "prune.global_unstructured(\n",
        "    parameters=parameters_to_prune,\n",
        "    pruning_method=prune.L1Unstructured,\n",
        "    amount=0.2\n",
        ")"
      ],
      "metadata": {
        "id": "niT4dsm92GnM"
      },
      "execution_count": 27,
      "outputs": []
    },
    {
      "cell_type": "code",
      "source": [
        "print(\n",
        "    \"Sparsity in conv1.weight: {:.2f}%\".format(\n",
        "        100. * float(torch.sum(model.conv1.weight == 0))\n",
        "        / float(model.conv1.weight.nelement())\n",
        "    )\n",
        ")\n",
        "print(\n",
        "    \"Sparsity in conv2.weight: {:.2f}%\".format(\n",
        "        100. * float(torch.sum(model.conv2.weight == 0))\n",
        "        / float(model.conv2.weight.nelement())\n",
        "    )\n",
        ")\n",
        "print(\n",
        "    \"Sparsity in fc1.weight: {:.2f}%\".format(\n",
        "        100. * float(torch.sum(model.fc1.weight == 0))\n",
        "        / float(model.fc1.weight.nelement())\n",
        "    )\n",
        ")\n",
        "print(\n",
        "    \"Sparsity in fc2.weight: {:.2f}%\".format(\n",
        "        100. * float(torch.sum(model.fc2.weight == 0))\n",
        "        / float(model.fc2.weight.nelement())\n",
        "    )\n",
        ")\n",
        "print(\n",
        "    \"Sparsity in fc3.weight: {:.2f}%\".format(\n",
        "        100. * float(torch.sum(model.fc3.weight == 0))\n",
        "        / float(model.fc3.weight.nelement())\n",
        "    )\n",
        ")\n",
        "print(\n",
        "    \"Global sparsity: {:.2f}%\".format(\n",
        "        100. * float(\n",
        "            torch.sum(model.conv1.weight == 0)\n",
        "            + torch.sum(model.conv2.weight == 0)\n",
        "            + torch.sum(model.fc1.weight == 0)\n",
        "            + torch.sum(model.fc2.weight == 0)\n",
        "            + torch.sum(model.fc3.weight == 0)\n",
        "        )\n",
        "        / float(\n",
        "            model.conv1.weight.nelement()\n",
        "            + model.conv2.weight.nelement()\n",
        "            + model.fc1.weight.nelement()\n",
        "            + model.fc2.weight.nelement()\n",
        "            + model.fc3.weight.nelement()\n",
        "        )\n",
        "    )\n",
        ")"
      ],
      "metadata": {
        "colab": {
          "base_uri": "https://localhost:8080/"
        },
        "id": "hj0UEiA_2a5h",
        "outputId": "e678ddf7-1b32-4238-9a22-57da4a375387"
      },
      "execution_count": 28,
      "outputs": [
        {
          "output_type": "stream",
          "name": "stdout",
          "text": [
            "Sparsity in conv1.weight: 6.00%\n",
            "Sparsity in conv2.weight: 13.71%\n",
            "Sparsity in fc1.weight: 22.13%\n",
            "Sparsity in fc2.weight: 12.23%\n",
            "Sparsity in fc3.weight: 11.79%\n",
            "Global sparsity: 20.00%\n"
          ]
        }
      ]
    }
  ]
}